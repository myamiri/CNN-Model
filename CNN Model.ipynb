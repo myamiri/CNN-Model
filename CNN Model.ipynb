{
 "cells": [
  {
   "cell_type": "markdown",
   "metadata": {},
   "source": [
    "### CNN Model for Fashion MNIST"
   ]
  },
  {
   "cell_type": "markdown",
   "metadata": {},
   "source": [
    "#### Summary: "
   ]
  },
  {
   "cell_type": "markdown",
   "metadata": {},
   "source": [
    " Fashion-MNIST is a dataset of Zalando's article images—consisting of a training set of 60,000 examples \n",
    " and a test set of 10,000 examples. Each example is a 28x28 grayscale image, associated with a label from 10 classes."
   ]
  },
  {
   "cell_type": "code",
   "execution_count": 2,
   "metadata": {},
   "outputs": [
    {
     "name": "stderr",
     "output_type": "stream",
     "text": [
      "Using TensorFlow backend.\n"
     ]
    }
   ],
   "source": [
    "from subprocess import check_output\n",
    "\n",
    "import pandas as pd\n",
    "import numpy as np\n",
    "import warnings\n",
    "warnings.filterwarnings('ignore')\n",
    "import matplotlib.pyplot as plt\n",
    "from sklearn.model_selection import train_test_split\n",
    "import keras\n",
    "from keras.models import Sequential\n",
    "from keras.layers import Conv2D,MaxPooling2D,Dense,Flatten,Dropout\n",
    "from keras.optimizers import  Adam\n",
    "from keras.callbacks import TensorBoard\n",
    "num_classes = 10\n",
    "epochs = 5"
   ]
  },
  {
   "cell_type": "markdown",
   "metadata": {},
   "source": [
    "### Data Description"
   ]
  },
  {
   "cell_type": "markdown",
   "metadata": {},
   "source": [
    "Each image is 28 pixels in height and 28 pixels in width, for a total of 784 pixels in total. Each pixel has a single pixel-value associated \n",
    "with it, indicating the lightness or darkness of that pixel, with higher numbers meaning darker. This pixel-value is an integer between 0 and 255. \n",
    "The training and test data sets have 785 columns. The first column consists of the class labels , and represents the article of clothing.\n",
    "The rest of the columns contain the pixel-values of the associated image."
   ]
  },
  {
   "cell_type": "markdown",
   "metadata": {},
   "source": [
    "##### Lables"
   ]
  },
  {
   "cell_type": "markdown",
   "metadata": {},
   "source": [
    "Each training and test example is assigned to one of the following labels:\n",
    "\n",
    "0 T-shirt/top\n",
    "\n",
    "1 Trouser\n",
    "\n",
    "2 Pullover\n",
    "\n",
    "3 Dress\n",
    "\n",
    "4 Coat\n",
    "\n",
    "5 Sandal\n",
    "\n",
    "6 Shirt\n",
    "\n",
    "7 Sneaker\n",
    "\n",
    "8 Bag\n",
    "\n",
    "9 Ankle boot"
   ]
  },
  {
   "cell_type": "code",
   "execution_count": 31,
   "metadata": {},
   "outputs": [],
   "source": [
    "train = pd.read_csv('C:\\\\Users\\\\maryam\\\\Desktop\\\\Python Program\\\\Deep Learning\\\\fashion-mnist_train.csv',sep=',')\n",
    "test = pd.read_csv('C:\\\\Users\\\\maryam\\\\Desktop\\\\Python Program\\\\Deep Learning\\\\fashion-mnist_test.csv', sep = ',')"
   ]
  },
  {
   "cell_type": "code",
   "execution_count": 32,
   "metadata": {},
   "outputs": [
    {
     "data": {
      "text/html": [
       "<div>\n",
       "<style scoped>\n",
       "    .dataframe tbody tr th:only-of-type {\n",
       "        vertical-align: middle;\n",
       "    }\n",
       "\n",
       "    .dataframe tbody tr th {\n",
       "        vertical-align: top;\n",
       "    }\n",
       "\n",
       "    .dataframe thead th {\n",
       "        text-align: right;\n",
       "    }\n",
       "</style>\n",
       "<table border=\"1\" class=\"dataframe\">\n",
       "  <thead>\n",
       "    <tr style=\"text-align: right;\">\n",
       "      <th></th>\n",
       "      <th>label</th>\n",
       "      <th>pixel1</th>\n",
       "      <th>pixel2</th>\n",
       "      <th>pixel3</th>\n",
       "      <th>pixel4</th>\n",
       "      <th>pixel5</th>\n",
       "      <th>pixel6</th>\n",
       "      <th>pixel7</th>\n",
       "      <th>pixel8</th>\n",
       "      <th>pixel9</th>\n",
       "      <th>...</th>\n",
       "      <th>pixel775</th>\n",
       "      <th>pixel776</th>\n",
       "      <th>pixel777</th>\n",
       "      <th>pixel778</th>\n",
       "      <th>pixel779</th>\n",
       "      <th>pixel780</th>\n",
       "      <th>pixel781</th>\n",
       "      <th>pixel782</th>\n",
       "      <th>pixel783</th>\n",
       "      <th>pixel784</th>\n",
       "    </tr>\n",
       "  </thead>\n",
       "  <tbody>\n",
       "    <tr>\n",
       "      <th>0</th>\n",
       "      <td>2</td>\n",
       "      <td>0</td>\n",
       "      <td>0</td>\n",
       "      <td>0</td>\n",
       "      <td>0</td>\n",
       "      <td>0</td>\n",
       "      <td>0</td>\n",
       "      <td>0</td>\n",
       "      <td>0</td>\n",
       "      <td>0</td>\n",
       "      <td>...</td>\n",
       "      <td>0</td>\n",
       "      <td>0</td>\n",
       "      <td>0</td>\n",
       "      <td>0</td>\n",
       "      <td>0</td>\n",
       "      <td>0</td>\n",
       "      <td>0</td>\n",
       "      <td>0</td>\n",
       "      <td>0</td>\n",
       "      <td>0</td>\n",
       "    </tr>\n",
       "    <tr>\n",
       "      <th>1</th>\n",
       "      <td>9</td>\n",
       "      <td>0</td>\n",
       "      <td>0</td>\n",
       "      <td>0</td>\n",
       "      <td>0</td>\n",
       "      <td>0</td>\n",
       "      <td>0</td>\n",
       "      <td>0</td>\n",
       "      <td>0</td>\n",
       "      <td>0</td>\n",
       "      <td>...</td>\n",
       "      <td>0</td>\n",
       "      <td>0</td>\n",
       "      <td>0</td>\n",
       "      <td>0</td>\n",
       "      <td>0</td>\n",
       "      <td>0</td>\n",
       "      <td>0</td>\n",
       "      <td>0</td>\n",
       "      <td>0</td>\n",
       "      <td>0</td>\n",
       "    </tr>\n",
       "    <tr>\n",
       "      <th>2</th>\n",
       "      <td>6</td>\n",
       "      <td>0</td>\n",
       "      <td>0</td>\n",
       "      <td>0</td>\n",
       "      <td>0</td>\n",
       "      <td>0</td>\n",
       "      <td>0</td>\n",
       "      <td>0</td>\n",
       "      <td>5</td>\n",
       "      <td>0</td>\n",
       "      <td>...</td>\n",
       "      <td>0</td>\n",
       "      <td>0</td>\n",
       "      <td>0</td>\n",
       "      <td>30</td>\n",
       "      <td>43</td>\n",
       "      <td>0</td>\n",
       "      <td>0</td>\n",
       "      <td>0</td>\n",
       "      <td>0</td>\n",
       "      <td>0</td>\n",
       "    </tr>\n",
       "    <tr>\n",
       "      <th>3</th>\n",
       "      <td>0</td>\n",
       "      <td>0</td>\n",
       "      <td>0</td>\n",
       "      <td>0</td>\n",
       "      <td>1</td>\n",
       "      <td>2</td>\n",
       "      <td>0</td>\n",
       "      <td>0</td>\n",
       "      <td>0</td>\n",
       "      <td>0</td>\n",
       "      <td>...</td>\n",
       "      <td>3</td>\n",
       "      <td>0</td>\n",
       "      <td>0</td>\n",
       "      <td>0</td>\n",
       "      <td>0</td>\n",
       "      <td>1</td>\n",
       "      <td>0</td>\n",
       "      <td>0</td>\n",
       "      <td>0</td>\n",
       "      <td>0</td>\n",
       "    </tr>\n",
       "    <tr>\n",
       "      <th>4</th>\n",
       "      <td>3</td>\n",
       "      <td>0</td>\n",
       "      <td>0</td>\n",
       "      <td>0</td>\n",
       "      <td>0</td>\n",
       "      <td>0</td>\n",
       "      <td>0</td>\n",
       "      <td>0</td>\n",
       "      <td>0</td>\n",
       "      <td>0</td>\n",
       "      <td>...</td>\n",
       "      <td>0</td>\n",
       "      <td>0</td>\n",
       "      <td>0</td>\n",
       "      <td>0</td>\n",
       "      <td>0</td>\n",
       "      <td>0</td>\n",
       "      <td>0</td>\n",
       "      <td>0</td>\n",
       "      <td>0</td>\n",
       "      <td>0</td>\n",
       "    </tr>\n",
       "  </tbody>\n",
       "</table>\n",
       "<p>5 rows × 785 columns</p>\n",
       "</div>"
      ],
      "text/plain": [
       "   label  pixel1  pixel2  pixel3  pixel4  pixel5  pixel6  pixel7  pixel8  \\\n",
       "0      2       0       0       0       0       0       0       0       0   \n",
       "1      9       0       0       0       0       0       0       0       0   \n",
       "2      6       0       0       0       0       0       0       0       5   \n",
       "3      0       0       0       0       1       2       0       0       0   \n",
       "4      3       0       0       0       0       0       0       0       0   \n",
       "\n",
       "   pixel9  ...  pixel775  pixel776  pixel777  pixel778  pixel779  pixel780  \\\n",
       "0       0  ...         0         0         0         0         0         0   \n",
       "1       0  ...         0         0         0         0         0         0   \n",
       "2       0  ...         0         0         0        30        43         0   \n",
       "3       0  ...         3         0         0         0         0         1   \n",
       "4       0  ...         0         0         0         0         0         0   \n",
       "\n",
       "   pixel781  pixel782  pixel783  pixel784  \n",
       "0         0         0         0         0  \n",
       "1         0         0         0         0  \n",
       "2         0         0         0         0  \n",
       "3         0         0         0         0  \n",
       "4         0         0         0         0  \n",
       "\n",
       "[5 rows x 785 columns]"
      ]
     },
     "execution_count": 32,
     "metadata": {},
     "output_type": "execute_result"
    }
   ],
   "source": [
    "train.head()"
   ]
  },
  {
   "cell_type": "code",
   "execution_count": 33,
   "metadata": {},
   "outputs": [
    {
     "data": {
      "text/html": [
       "<div>\n",
       "<style scoped>\n",
       "    .dataframe tbody tr th:only-of-type {\n",
       "        vertical-align: middle;\n",
       "    }\n",
       "\n",
       "    .dataframe tbody tr th {\n",
       "        vertical-align: top;\n",
       "    }\n",
       "\n",
       "    .dataframe thead th {\n",
       "        text-align: right;\n",
       "    }\n",
       "</style>\n",
       "<table border=\"1\" class=\"dataframe\">\n",
       "  <thead>\n",
       "    <tr style=\"text-align: right;\">\n",
       "      <th></th>\n",
       "      <th>label</th>\n",
       "      <th>pixel1</th>\n",
       "      <th>pixel2</th>\n",
       "      <th>pixel3</th>\n",
       "      <th>pixel4</th>\n",
       "      <th>pixel5</th>\n",
       "      <th>pixel6</th>\n",
       "      <th>pixel7</th>\n",
       "      <th>pixel8</th>\n",
       "      <th>pixel9</th>\n",
       "      <th>...</th>\n",
       "      <th>pixel775</th>\n",
       "      <th>pixel776</th>\n",
       "      <th>pixel777</th>\n",
       "      <th>pixel778</th>\n",
       "      <th>pixel779</th>\n",
       "      <th>pixel780</th>\n",
       "      <th>pixel781</th>\n",
       "      <th>pixel782</th>\n",
       "      <th>pixel783</th>\n",
       "      <th>pixel784</th>\n",
       "    </tr>\n",
       "  </thead>\n",
       "  <tbody>\n",
       "    <tr>\n",
       "      <th>0</th>\n",
       "      <td>0</td>\n",
       "      <td>0</td>\n",
       "      <td>0</td>\n",
       "      <td>0</td>\n",
       "      <td>0</td>\n",
       "      <td>0</td>\n",
       "      <td>0</td>\n",
       "      <td>0</td>\n",
       "      <td>9</td>\n",
       "      <td>8</td>\n",
       "      <td>...</td>\n",
       "      <td>103</td>\n",
       "      <td>87</td>\n",
       "      <td>56</td>\n",
       "      <td>0</td>\n",
       "      <td>0</td>\n",
       "      <td>0</td>\n",
       "      <td>0</td>\n",
       "      <td>0</td>\n",
       "      <td>0</td>\n",
       "      <td>0</td>\n",
       "    </tr>\n",
       "    <tr>\n",
       "      <th>1</th>\n",
       "      <td>1</td>\n",
       "      <td>0</td>\n",
       "      <td>0</td>\n",
       "      <td>0</td>\n",
       "      <td>0</td>\n",
       "      <td>0</td>\n",
       "      <td>0</td>\n",
       "      <td>0</td>\n",
       "      <td>0</td>\n",
       "      <td>0</td>\n",
       "      <td>...</td>\n",
       "      <td>34</td>\n",
       "      <td>0</td>\n",
       "      <td>0</td>\n",
       "      <td>0</td>\n",
       "      <td>0</td>\n",
       "      <td>0</td>\n",
       "      <td>0</td>\n",
       "      <td>0</td>\n",
       "      <td>0</td>\n",
       "      <td>0</td>\n",
       "    </tr>\n",
       "    <tr>\n",
       "      <th>2</th>\n",
       "      <td>2</td>\n",
       "      <td>0</td>\n",
       "      <td>0</td>\n",
       "      <td>0</td>\n",
       "      <td>0</td>\n",
       "      <td>0</td>\n",
       "      <td>0</td>\n",
       "      <td>14</td>\n",
       "      <td>53</td>\n",
       "      <td>99</td>\n",
       "      <td>...</td>\n",
       "      <td>0</td>\n",
       "      <td>0</td>\n",
       "      <td>0</td>\n",
       "      <td>0</td>\n",
       "      <td>63</td>\n",
       "      <td>53</td>\n",
       "      <td>31</td>\n",
       "      <td>0</td>\n",
       "      <td>0</td>\n",
       "      <td>0</td>\n",
       "    </tr>\n",
       "    <tr>\n",
       "      <th>3</th>\n",
       "      <td>2</td>\n",
       "      <td>0</td>\n",
       "      <td>0</td>\n",
       "      <td>0</td>\n",
       "      <td>0</td>\n",
       "      <td>0</td>\n",
       "      <td>0</td>\n",
       "      <td>0</td>\n",
       "      <td>0</td>\n",
       "      <td>0</td>\n",
       "      <td>...</td>\n",
       "      <td>137</td>\n",
       "      <td>126</td>\n",
       "      <td>140</td>\n",
       "      <td>0</td>\n",
       "      <td>133</td>\n",
       "      <td>224</td>\n",
       "      <td>222</td>\n",
       "      <td>56</td>\n",
       "      <td>0</td>\n",
       "      <td>0</td>\n",
       "    </tr>\n",
       "    <tr>\n",
       "      <th>4</th>\n",
       "      <td>3</td>\n",
       "      <td>0</td>\n",
       "      <td>0</td>\n",
       "      <td>0</td>\n",
       "      <td>0</td>\n",
       "      <td>0</td>\n",
       "      <td>0</td>\n",
       "      <td>0</td>\n",
       "      <td>0</td>\n",
       "      <td>0</td>\n",
       "      <td>...</td>\n",
       "      <td>0</td>\n",
       "      <td>0</td>\n",
       "      <td>0</td>\n",
       "      <td>0</td>\n",
       "      <td>0</td>\n",
       "      <td>0</td>\n",
       "      <td>0</td>\n",
       "      <td>0</td>\n",
       "      <td>0</td>\n",
       "      <td>0</td>\n",
       "    </tr>\n",
       "  </tbody>\n",
       "</table>\n",
       "<p>5 rows × 785 columns</p>\n",
       "</div>"
      ],
      "text/plain": [
       "   label  pixel1  pixel2  pixel3  pixel4  pixel5  pixel6  pixel7  pixel8  \\\n",
       "0      0       0       0       0       0       0       0       0       9   \n",
       "1      1       0       0       0       0       0       0       0       0   \n",
       "2      2       0       0       0       0       0       0      14      53   \n",
       "3      2       0       0       0       0       0       0       0       0   \n",
       "4      3       0       0       0       0       0       0       0       0   \n",
       "\n",
       "   pixel9  ...  pixel775  pixel776  pixel777  pixel778  pixel779  pixel780  \\\n",
       "0       8  ...       103        87        56         0         0         0   \n",
       "1       0  ...        34         0         0         0         0         0   \n",
       "2      99  ...         0         0         0         0        63        53   \n",
       "3       0  ...       137       126       140         0       133       224   \n",
       "4       0  ...         0         0         0         0         0         0   \n",
       "\n",
       "   pixel781  pixel782  pixel783  pixel784  \n",
       "0         0         0         0         0  \n",
       "1         0         0         0         0  \n",
       "2        31         0         0         0  \n",
       "3       222        56         0         0  \n",
       "4         0         0         0         0  \n",
       "\n",
       "[5 rows x 785 columns]"
      ]
     },
     "execution_count": 33,
     "metadata": {},
     "output_type": "execute_result"
    }
   ],
   "source": [
    "test.head()"
   ]
  },
  {
   "cell_type": "markdown",
   "metadata": {},
   "source": [
    "Here each row is a different image representation in the form pixel data."
   ]
  },
  {
   "cell_type": "markdown",
   "metadata": {},
   "source": [
    "Now let us split the train data into x and y arrays where x represents the image data and y represents the labels.\n",
    "\n",
    "To do that we need to convert the dataframes into numpy arrays of float32 type \n",
    "which is the acceptable form for tensorflow and keras."
   ]
  },
  {
   "cell_type": "code",
   "execution_count": 34,
   "metadata": {},
   "outputs": [],
   "source": [
    "train_data = np.array(train, dtype = 'float32')"
   ]
  },
  {
   "cell_type": "code",
   "execution_count": 35,
   "metadata": {},
   "outputs": [],
   "source": [
    "test_data = np.array(test, dtype = 'float32')"
   ]
  },
  {
   "cell_type": "markdown",
   "metadata": {},
   "source": [
    "Now let us slice the train arrays into x and y arrays namely x_train,y_train to store all image data and label data respectively\n",
    "and the test arrays into x and y arrays namely x_test,y_test.\n",
    "\n",
    "x_train contains all the rows and all columns except the label column and excluding header info .\n",
    "y_train contains all the rows and first column and excluding header info .\n",
    "\n",
    "x_test contains all the rows and all columns except the label column and excluding header info .\n",
    "y_test contains all the rows and first column and excluding header info ."
   ]
  },
  {
   "cell_type": "markdown",
   "metadata": {},
   "source": [
    "###### Since the image data in x_train and x_test is from 0 to 255 , we need to rescale this from 0 to 1.To do this we need to divide the x_train and x_test by 255"
   ]
  },
  {
   "cell_type": "code",
   "execution_count": 36,
   "metadata": {},
   "outputs": [],
   "source": [
    "x_train = train_data[:,1:]/255\n",
    "\n",
    "y_train = train_data[:,0]\n",
    "\n",
    "x_test= test_data[:,1:]/255\n",
    "\n",
    "y_test=test_data[:,0]"
   ]
  },
  {
   "cell_type": "markdown",
   "metadata": {},
   "source": [
    "Now we are gonna split the training data into validation and actual training data for training the model and testing it using the validation set."
   ]
  },
  {
   "cell_type": "code",
   "execution_count": 37,
   "metadata": {},
   "outputs": [],
   "source": [
    "x_train,x_validate,y_train,y_validate = train_test_split(x_train,y_train,test_size = 0.2,random_state = 12345)"
   ]
  },
  {
   "cell_type": "markdown",
   "metadata": {},
   "source": [
    "Now let us visualise the sample image how it looks like in 28 * 28 pixel size"
   ]
  },
  {
   "cell_type": "code",
   "execution_count": 38,
   "metadata": {},
   "outputs": [
    {
     "data": {
      "image/png": "[encoded data removed]",
      "text/plain": [
       "<Figure size 432x288 with 1 Axes>"
      ]
     },
     "metadata": {
      "needs_background": "light"
     },
     "output_type": "display_data"
    }
   ],
   "source": [
    "image = x_train[55,:].reshape((28,28))\n",
    "plt.imshow(image)\n",
    "plt.show()"
   ]
  },
  {
   "cell_type": "markdown",
   "metadata": {},
   "source": [
    "#### Create the Convolutional Neural Networks (CNN)"
   ]
  },
  {
   "cell_type": "markdown",
   "metadata": {},
   "source": [
    "1) Define the model\n",
    "\n",
    "2) Compile the model\n",
    "\n",
    "3) Fit the model"
   ]
  },
  {
   "cell_type": "markdown",
   "metadata": {},
   "source": [
    "Defining the shape of the image before we define the model"
   ]
  },
  {
   "cell_type": "code",
   "execution_count": 39,
   "metadata": {},
   "outputs": [],
   "source": [
    "image_rows = 28\n",
    "\n",
    "image_cols = 28\n",
    "\n",
    "batch_size = 512\n",
    "\n",
    "image_shape = (image_rows,image_cols,1) # Defined the shape of the image as 3d with rows and columns and 1 for the 3d visualisation"
   ]
  },
  {
   "cell_type": "code",
   "execution_count": 40,
   "metadata": {},
   "outputs": [],
   "source": [
    "x_train = x_train.reshape(x_train.shape[0],*image_shape)\n",
    "x_test = x_test.reshape(x_test.shape[0],*image_shape)\n",
    "x_validate = x_validate.reshape(x_validate.shape[0],*image_shape)"
   ]
  },
  {
   "cell_type": "markdown",
   "metadata": {},
   "source": [
    "1)Define Model"
   ]
  },
  {
   "cell_type": "code",
   "execution_count": 41,
   "metadata": {},
   "outputs": [],
   "source": [
    "cnn_model = Sequential([\n",
    "    Conv2D(filters=32,kernel_size=3,activation='relu',input_shape = image_shape),\n",
    "    MaxPooling2D(pool_size=2) ,# down sampling the output instead of 28*28 it is 14*14\n",
    "    Dropout(0.2),\n",
    "    Flatten(), # flatten out the layers\n",
    "    Dense(32,activation='relu'),\n",
    "    Dense(10,activation = 'softmax')\n",
    "    \n",
    "])"
   ]
  },
  {
   "cell_type": "markdown",
   "metadata": {},
   "source": [
    "2) Compile the Model"
   ]
  },
  {
   "cell_type": "code",
   "execution_count": 42,
   "metadata": {},
   "outputs": [],
   "source": [
    "cnn_model.compile(loss ='sparse_categorical_crossentropy', optimizer=Adam(lr=0.001),metrics =['accuracy'])"
   ]
  },
  {
   "cell_type": "code",
   "execution_count": 43,
   "metadata": {},
   "outputs": [
    {
     "name": "stdout",
     "output_type": "stream",
     "text": [
      "Train on 48000 samples, validate on 12000 samples\n",
      "Epoch 1/50\n",
      "48000/48000 [==============================] - 21s 435us/step - loss: 0.7716 - accuracy: 0.7489 - val_loss: 0.4951 - val_accuracy: 0.8266\n",
      "Epoch 2/50\n",
      "48000/48000 [==============================] - 21s 433us/step - loss: 0.4503 - accuracy: 0.8432 - val_loss: 0.4044 - val_accuracy: 0.8630\n",
      "Epoch 3/50\n",
      "48000/48000 [==============================] - 20s 412us/step - loss: 0.3988 - accuracy: 0.8605 - val_loss: 0.3899 - val_accuracy: 0.8682\n",
      "Epoch 4/50\n",
      "48000/48000 [==============================] - 20s 410us/step - loss: 0.3716 - accuracy: 0.8700 - val_loss: 0.3626 - val_accuracy: 0.8737\n",
      "Epoch 5/50\n",
      "48000/48000 [==============================] - 20s 424us/step - loss: 0.3489 - accuracy: 0.8785 - val_loss: 0.3379 - val_accuracy: 0.8860\n",
      "Epoch 6/50\n",
      "48000/48000 [==============================] - 21s 445us/step - loss: 0.3293 - accuracy: 0.8863 - val_loss: 0.3253 - val_accuracy: 0.8861\n",
      "Epoch 7/50\n",
      "48000/48000 [==============================] - 19s 406us/step - loss: 0.3146 - accuracy: 0.8904 - val_loss: 0.3096 - val_accuracy: 0.8942\n",
      "Epoch 8/50\n",
      "48000/48000 [==============================] - 19s 393us/step - loss: 0.3042 - accuracy: 0.8936 - val_loss: 0.3076 - val_accuracy: 0.8938\n",
      "Epoch 9/50\n",
      "48000/48000 [==============================] - 19s 397us/step - loss: 0.2967 - accuracy: 0.8942 - val_loss: 0.3059 - val_accuracy: 0.8925\n",
      "Epoch 10/50\n",
      "48000/48000 [==============================] - 19s 392us/step - loss: 0.2857 - accuracy: 0.8995 - val_loss: 0.3006 - val_accuracy: 0.8921\n",
      "Epoch 11/50\n",
      "48000/48000 [==============================] - 19s 392us/step - loss: 0.2794 - accuracy: 0.9014 - val_loss: 0.2870 - val_accuracy: 0.8974\n",
      "Epoch 12/50\n",
      "48000/48000 [==============================] - 19s 405us/step - loss: 0.2712 - accuracy: 0.9038 - val_loss: 0.2781 - val_accuracy: 0.9007\n",
      "Epoch 13/50\n",
      "48000/48000 [==============================] - 19s 395us/step - loss: 0.2664 - accuracy: 0.9067 - val_loss: 0.2891 - val_accuracy: 0.8964\n",
      "Epoch 14/50\n",
      "48000/48000 [==============================] - 20s 408us/step - loss: 0.2606 - accuracy: 0.9066 - val_loss: 0.2688 - val_accuracy: 0.9063\n",
      "Epoch 15/50\n",
      "48000/48000 [==============================] - 19s 402us/step - loss: 0.2521 - accuracy: 0.9096 - val_loss: 0.2707 - val_accuracy: 0.9043\n",
      "Epoch 16/50\n",
      "48000/48000 [==============================] - 19s 395us/step - loss: 0.2463 - accuracy: 0.9120 - val_loss: 0.2657 - val_accuracy: 0.9057\n",
      "Epoch 17/50\n",
      "48000/48000 [==============================] - 19s 392us/step - loss: 0.2428 - accuracy: 0.9127 - val_loss: 0.2608 - val_accuracy: 0.9074\n",
      "Epoch 18/50\n",
      "48000/48000 [==============================] - 19s 390us/step - loss: 0.2356 - accuracy: 0.9159 - val_loss: 0.2565 - val_accuracy: 0.9092\n",
      "Epoch 19/50\n",
      "48000/48000 [==============================] - 19s 400us/step - loss: 0.2319 - accuracy: 0.9173 - val_loss: 0.2568 - val_accuracy: 0.9091\n",
      "Epoch 20/50\n",
      "48000/48000 [==============================] - 19s 405us/step - loss: 0.2268 - accuracy: 0.9195 - val_loss: 0.2568 - val_accuracy: 0.9074\n",
      "Epoch 21/50\n",
      "48000/48000 [==============================] - 19s 398us/step - loss: 0.2229 - accuracy: 0.9204 - val_loss: 0.2509 - val_accuracy: 0.9103\n",
      "Epoch 22/50\n",
      "48000/48000 [==============================] - 19s 395us/step - loss: 0.2192 - accuracy: 0.9212 - val_loss: 0.2566 - val_accuracy: 0.9072\n",
      "Epoch 23/50\n",
      "48000/48000 [==============================] - 20s 414us/step - loss: 0.2143 - accuracy: 0.9231 - val_loss: 0.2515 - val_accuracy: 0.9091\n",
      "Epoch 24/50\n",
      "48000/48000 [==============================] - 21s 428us/step - loss: 0.2120 - accuracy: 0.9235 - val_loss: 0.2518 - val_accuracy: 0.9096\n",
      "Epoch 25/50\n",
      "48000/48000 [==============================] - 20s 412us/step - loss: 0.2093 - accuracy: 0.9241 - val_loss: 0.2501 - val_accuracy: 0.9098\n",
      "Epoch 26/50\n",
      "48000/48000 [==============================] - 21s 430us/step - loss: 0.2030 - accuracy: 0.9272 - val_loss: 0.2512 - val_accuracy: 0.9092\n",
      "Epoch 27/50\n",
      "48000/48000 [==============================] - 20s 412us/step - loss: 0.2006 - accuracy: 0.9284 - val_loss: 0.2474 - val_accuracy: 0.9112\n",
      "Epoch 28/50\n",
      "48000/48000 [==============================] - 20s 409us/step - loss: 0.1972 - accuracy: 0.9288 - val_loss: 0.2404 - val_accuracy: 0.9128\n",
      "Epoch 29/50\n",
      "48000/48000 [==============================] - 20s 419us/step - loss: 0.1974 - accuracy: 0.9294 - val_loss: 0.2481 - val_accuracy: 0.9104\n",
      "Epoch 30/50\n",
      "48000/48000 [==============================] - 20s 407us/step - loss: 0.1922 - accuracy: 0.9301 - val_loss: 0.2437 - val_accuracy: 0.9120\n",
      "Epoch 31/50\n",
      "48000/48000 [==============================] - 20s 408us/step - loss: 0.1890 - accuracy: 0.9319 - val_loss: 0.2388 - val_accuracy: 0.9141\n",
      "Epoch 32/50\n",
      "48000/48000 [==============================] - 19s 399us/step - loss: 0.1866 - accuracy: 0.9326 - val_loss: 0.2465 - val_accuracy: 0.9118\n",
      "Epoch 33/50\n",
      "48000/48000 [==============================] - 19s 400us/step - loss: 0.1846 - accuracy: 0.9335 - val_loss: 0.2434 - val_accuracy: 0.9133\n",
      "Epoch 34/50\n",
      "48000/48000 [==============================] - 20s 419us/step - loss: 0.1808 - accuracy: 0.9354 - val_loss: 0.2371 - val_accuracy: 0.9164\n",
      "Epoch 35/50\n",
      "48000/48000 [==============================] - 22s 453us/step - loss: 0.1783 - accuracy: 0.9353 - val_loss: 0.2399 - val_accuracy: 0.9160\n",
      "Epoch 36/50\n",
      "48000/48000 [==============================] - 21s 437us/step - loss: 0.1758 - accuracy: 0.9368 - val_loss: 0.2496 - val_accuracy: 0.9118\n",
      "Epoch 37/50\n",
      "48000/48000 [==============================] - 21s 432us/step - loss: 0.1740 - accuracy: 0.9375 - val_loss: 0.2370 - val_accuracy: 0.9165\n",
      "Epoch 38/50\n",
      "48000/48000 [==============================] - 20s 406us/step - loss: 0.1697 - accuracy: 0.9388 - val_loss: 0.2390 - val_accuracy: 0.9149\n",
      "Epoch 39/50\n",
      "48000/48000 [==============================] - 21s 427us/step - loss: 0.1694 - accuracy: 0.9386 - val_loss: 0.2453 - val_accuracy: 0.9124\n",
      "Epoch 40/50\n",
      "48000/48000 [==============================] - 20s 409us/step - loss: 0.1664 - accuracy: 0.9385 - val_loss: 0.2396 - val_accuracy: 0.9154\n",
      "Epoch 41/50\n",
      "48000/48000 [==============================] - 19s 400us/step - loss: 0.1659 - accuracy: 0.9410 - val_loss: 0.2459 - val_accuracy: 0.9135\n",
      "Epoch 42/50\n",
      "48000/48000 [==============================] - 19s 390us/step - loss: 0.1642 - accuracy: 0.9402 - val_loss: 0.2406 - val_accuracy: 0.9166\n",
      "Epoch 43/50\n",
      "48000/48000 [==============================] - 20s 413us/step - loss: 0.1606 - accuracy: 0.9404 - val_loss: 0.2433 - val_accuracy: 0.9163\n",
      "Epoch 44/50\n",
      "48000/48000 [==============================] - 21s 429us/step - loss: 0.1569 - accuracy: 0.9435 - val_loss: 0.2385 - val_accuracy: 0.9177\n",
      "Epoch 45/50\n",
      "48000/48000 [==============================] - 21s 431us/step - loss: 0.1550 - accuracy: 0.9432 - val_loss: 0.2384 - val_accuracy: 0.9161\n",
      "Epoch 46/50\n",
      "48000/48000 [==============================] - 20s 407us/step - loss: 0.1521 - accuracy: 0.9446 - val_loss: 0.2377 - val_accuracy: 0.9174\n",
      "Epoch 47/50\n",
      "48000/48000 [==============================] - 19s 397us/step - loss: 0.1529 - accuracy: 0.9440 - val_loss: 0.2415 - val_accuracy: 0.9193\n",
      "Epoch 48/50\n",
      "48000/48000 [==============================] - 19s 391us/step - loss: 0.1505 - accuracy: 0.9445 - val_loss: 0.2449 - val_accuracy: 0.9173\n",
      "Epoch 49/50\n",
      "48000/48000 [==============================] - 19s 402us/step - loss: 0.1489 - accuracy: 0.9461 - val_loss: 0.2476 - val_accuracy: 0.9160\n",
      "Epoch 50/50\n",
      "48000/48000 [==============================] - 19s 397us/step - loss: 0.1482 - accuracy: 0.9461 - val_loss: 0.2436 - val_accuracy: 0.9179\n"
     ]
    }
   ],
   "source": [
    "history=cnn_model.fit(\n",
    "x_train,\n",
    "y_train,\n",
    "batch_size=batch_size,\n",
    "epochs=50,\n",
    "verbose=1,\n",
    "validation_data=(x_validate,y_validate)\n",
    ")"
   ]
  },
  {
   "cell_type": "markdown",
   "metadata": {},
   "source": [
    "4) Evaluate the Model"
   ]
  },
  {
   "cell_type": "code",
   "execution_count": 44,
   "metadata": {},
   "outputs": [
    {
     "name": "stdout",
     "output_type": "stream",
     "text": [
      "Test Loss : 0.2454\n",
      "Test Accuracy : 0.9214\n"
     ]
    }
   ],
   "source": [
    "score = cnn_model.evaluate(x_test,y_test,verbose=0)\n",
    "print('Test Loss : {:.4f}'.format(score[0]))\n",
    "print('Test Accuracy : {:.4f}'.format(score[1]))"
   ]
  },
  {
   "cell_type": "markdown",
   "metadata": {},
   "source": [
    "#### Result"
   ]
  },
  {
   "cell_type": "code",
   "execution_count": 45,
   "metadata": {},
   "outputs": [
    {
     "data": {
      "text/plain": [
       "dict_keys(['val_loss', 'val_accuracy', 'loss', 'accuracy'])"
      ]
     },
     "execution_count": 45,
     "metadata": {},
     "output_type": "execute_result"
    }
   ],
   "source": [
    "history.history.keys()"
   ]
  },
  {
   "cell_type": "code",
   "execution_count": 46,
   "metadata": {},
   "outputs": [
    {
     "data": {
      "image/png": "[encoded data removed]",
      "text/plain": [
       "<Figure size 432x288 with 1 Axes>"
      ]
     },
     "metadata": {
      "needs_background": "light"
     },
     "output_type": "display_data"
    },
    {
     "data": {
      "image/png": "[encoded data removed]",
      "text/plain": [
       "<Figure size 432x288 with 1 Axes>"
      ]
     },
     "metadata": {
      "needs_background": "light"
     },
     "output_type": "display_data"
    }
   ],
   "source": [
    "import matplotlib.pyplot as plt\n",
    "\n",
    "%matplotlib inline\n",
    "\n",
    "accuracy = history.history['accuracy']\n",
    "\n",
    "val_accuracy = history.history['val_accuracy']\n",
    "\n",
    "loss = history.history['loss']\n",
    "\n",
    "val_loss = history.history['val_loss']\n",
    "\n",
    "epochs = range(len(accuracy))\n",
    "\n",
    "plt.plot(epochs, accuracy, 'bo', label='Training Accuracy')\n",
    "\n",
    "plt.plot(epochs, val_accuracy, 'b', label='Validation Accuracy')\n",
    "\n",
    "plt.title('Training and Validation accuracy')\n",
    "\n",
    "plt.legend()\n",
    "\n",
    "plt.figure()\n",
    "\n",
    "plt.plot(epochs, loss, 'bo', label='Training Loss')\n",
    "\n",
    "plt.plot(epochs, val_loss, 'b', label='Validation Loss')\n",
    "\n",
    "plt.title('Training and validation loss')\n",
    "\n",
    "plt.legend()\n",
    "\n",
    "plt.show()\n"
   ]
  },
  {
   "cell_type": "markdown",
   "metadata": {},
   "source": [
    "#### Classification Report"
   ]
  },
  {
   "cell_type": "code",
   "execution_count": 47,
   "metadata": {},
   "outputs": [
    {
     "name": "stdout",
     "output_type": "stream",
     "text": [
      "              precision    recall  f1-score   support\n",
      "\n",
      "     Class 0       0.85      0.91      0.88      1000\n",
      "     Class 1       0.98      0.98      0.98      1000\n",
      "     Class 2       0.90      0.86      0.88      1000\n",
      "     Class 3       0.89      0.94      0.92      1000\n",
      "     Class 4       0.88      0.91      0.89      1000\n",
      "     Class 5       0.99      0.97      0.98      1000\n",
      "     Class 6       0.83      0.72      0.77      1000\n",
      "     Class 7       0.95      0.97      0.96      1000\n",
      "     Class 8       0.98      0.98      0.98      1000\n",
      "     Class 9       0.97      0.97      0.97      1000\n",
      "\n",
      "    accuracy                           0.92     10000\n",
      "   macro avg       0.92      0.92      0.92     10000\n",
      "weighted avg       0.92      0.92      0.92     10000\n",
      "\n"
     ]
    }
   ],
   "source": [
    "#get the predictions for the test data\n",
    "\n",
    "predicted_classes = cnn_model.predict_classes(x_test)\n",
    "\n",
    "#get the indices to be plotted\n",
    "\n",
    "y_true = test.iloc[:, 0]\n",
    "\n",
    "correct = np.nonzero(predicted_classes==y_true)[0]\n",
    "\n",
    "incorrect = np.nonzero(predicted_classes!=y_true)[0]\n",
    "\n",
    "from sklearn.metrics import classification_report\n",
    "\n",
    "target_names = [\"Class {}\".format(i) for i in range(num_classes)]\n",
    "\n",
    "print(classification_report(y_true, predicted_classes, target_names=target_names))\n",
    "          \n"
   ]
  },
  {
   "cell_type": "markdown",
   "metadata": {},
   "source": [
    "It's apparent that our classifier is underperforming for class 6 in terms of both precision and recall. For class 2, classifier is slightly lacking precision whereas it is slightly lacking recall (i.e. missed) for class 4."
   ]
  },
  {
   "cell_type": "markdown",
   "metadata": {},
   "source": [
    "###### A subset of correctly predicted classes"
   ]
  },
  {
   "cell_type": "code",
   "execution_count": 50,
   "metadata": {},
   "outputs": [
    {
     "data": {
      "image/png": "[encoded data removed]",
      "text/plain": [
       "<Figure size 432x288 with 9 Axes>"
      ]
     },
     "metadata": {
      "needs_background": "light"
     },
     "output_type": "display_data"
    }
   ],
   "source": [
    "for i, correct in enumerate(correct[:9]):\n",
    "    plt.subplot(3,3,i+1)\n",
    "    plt.imshow(x_test[correct].reshape(28,28), cmap='gray', interpolation='none')\n",
    "    plt.title(\"Predicted {}, Class {}\".format(predicted_classes[correct], y_true[correct]))\n",
    "    plt.tight_layout()"
   ]
  },
  {
   "cell_type": "markdown",
   "metadata": {},
   "source": [
    "##### A subset of incorrectly predicted classes"
   ]
  },
  {
   "cell_type": "code",
   "execution_count": 52,
   "metadata": {},
   "outputs": [
    {
     "data": {
      "image/png": "[encoded data removed]",
      "text/plain": [
       "<Figure size 432x288 with 9 Axes>"
      ]
     },
     "metadata": {
      "needs_background": "light"
     },
     "output_type": "display_data"
    }
   ],
   "source": [
    "for i, incorrect in enumerate(incorrect[0:9]):\n",
    "    plt.subplot(3,3,i+1)\n",
    "    plt.imshow(x_test[incorrect].reshape(28,28), cmap='gray', interpolation='none')\n",
    "    plt.title(\"Predicted {}, Class {}\".format(predicted_classes[incorrect], y_true[incorrect]))\n",
    "    plt.tight_layout()"
   ]
  },
  {
   "cell_type": "markdown",
   "metadata": {},
   "source": [
    "It looks like diversity of the similar patterns present on multiple classes effect the performance of the classifier although CNN is a robust architechture."
   ]
  },
  {
   "cell_type": "code",
   "execution_count": null,
   "metadata": {},
   "outputs": [],
   "source": []
  }
 ],
 "metadata": {
  "kernelspec": {
   "display_name": "Python 3",
   "language": "python",
   "name": "python3"
  },
  "language_info": {
   "codemirror_mode": {
    "name": "ipython",
    "version": 3
   },
   "file_extension": ".py",
   "mimetype": "text/x-python",
   "name": "python",
   "nbconvert_exporter": "python",
   "pygments_lexer": "ipython3",
   "version": "3.7.7"
  }
 },
 "nbformat": 4,
 "nbformat_minor": 2
}
